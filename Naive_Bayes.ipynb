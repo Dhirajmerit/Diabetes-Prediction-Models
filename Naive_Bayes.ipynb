{
  "nbformat": 4,
  "nbformat_minor": 0,
  "metadata": {
    "colab": {
      "provenance": []
    },
    "kernelspec": {
      "name": "python3",
      "display_name": "Python 3"
    },
    "language_info": {
      "name": "python"
    }
  },
  "cells": [
    {
      "cell_type": "markdown",
      "metadata": {
        "id": "LnPbntVRnfvV"
      },
      "source": [
        "Importing the Dependencies"
      ]
    },
    {
      "cell_type": "code",
      "metadata": {
        "id": "-71UtHzNVWjB"
      },
      "source": [
        "import numpy as np\n",
        "import pandas as pd\n",
        "from sklearn.model_selection import train_test_split\n",
        "from sklearn.naive_bayes import GaussianNB # Import Gaussian Naive Bayes\n",
        "from sklearn.metrics import accuracy_score\n",
        "import time\n",
        "import matplotlib.pyplot as plt\n",
        "import pickle\n"
      ],
      "execution_count": null,
      "outputs": []
    },
    {
      "cell_type": "code",
      "source": [
        "# Start total execution time\n",
        "start_time = time.time()"
      ],
      "metadata": {
        "id": "rglX5Ztz5JKF"
      },
      "execution_count": null,
      "outputs": []
    },
    {
      "cell_type": "markdown",
      "metadata": {
        "id": "bmfOfG8joBBy"
      },
      "source": [
        "Data Collection and Analysis\n",
        "\n",
        "PIMA Diabetes Dataset"
      ]
    },
    {
      "cell_type": "code",
      "metadata": {
        "id": "Xpw6Mj_pn_TL"
      },
      "source": [
        "# loading the diabetes dataset to a pandas DataFrame\n",
        "diabetes_dataset = pd.read_csv('/content/diabetes.csv')"
      ],
      "execution_count": null,
      "outputs": []
    },
    {
      "cell_type": "code",
      "metadata": {
        "colab": {
          "base_uri": "https://localhost:8080/"
        },
        "id": "-tjO09ncovoh",
        "outputId": "8aff27fd-6daf-4064-baad-9e83da6362e9"
      },
      "source": [
        "# Data analysis\n",
        "print(diabetes_dataset.head())\n",
        "print(diabetes_dataset.describe())\n",
        "print(diabetes_dataset['diabetes'].value_counts())"
      ],
      "execution_count": null,
      "outputs": [
        {
          "output_type": "stream",
          "name": "stdout",
          "text": [
            "  gender   age  hypertension  heart_disease smoking_history    bmi  \\\n",
            "0      0  80.0             0              1           never  25.19   \n",
            "1      0  54.0             0              0         No Info  27.32   \n",
            "2      1  28.0             0              0           never  27.32   \n",
            "3      0  36.0             0              0         current  23.45   \n",
            "4      1  76.0             1              1         current  20.14   \n",
            "\n",
            "   HbA1c_level  blood_glucose_level  diabetes  \n",
            "0          6.6                  140         0  \n",
            "1          6.6                   80         0  \n",
            "2          5.7                  158         0  \n",
            "3          5.0                  155         0  \n",
            "4          4.8                  155         0  \n",
            "                 age  hypertension  heart_disease            bmi  \\\n",
            "count  100000.000000  100000.00000  100000.000000  100000.000000   \n",
            "mean       41.885856       0.07485       0.039420      27.320767   \n",
            "std        22.516840       0.26315       0.194593       6.636783   \n",
            "min         0.080000       0.00000       0.000000      10.010000   \n",
            "25%        24.000000       0.00000       0.000000      23.630000   \n",
            "50%        43.000000       0.00000       0.000000      27.320000   \n",
            "75%        60.000000       0.00000       0.000000      29.580000   \n",
            "max        80.000000       1.00000       1.000000      95.690000   \n",
            "\n",
            "         HbA1c_level  blood_glucose_level       diabetes  \n",
            "count  100000.000000        100000.000000  100000.000000  \n",
            "mean        5.527507           138.058060       0.085000  \n",
            "std         1.070672            40.708136       0.278883  \n",
            "min         3.500000            80.000000       0.000000  \n",
            "25%         4.800000           100.000000       0.000000  \n",
            "50%         5.800000           140.000000       0.000000  \n",
            "75%         6.200000           159.000000       0.000000  \n",
            "max         9.000000           300.000000       1.000000  \n",
            "diabetes\n",
            "0    91500\n",
            "1     8500\n",
            "Name: count, dtype: int64\n"
          ]
        }
      ]
    },
    {
      "cell_type": "code",
      "source": [
        "# Drop the gender column\n",
        "diabetes_dataset.drop(columns='gender', inplace=True)"
      ],
      "metadata": {
        "id": "0aRLsJK25ezp"
      },
      "execution_count": null,
      "outputs": []
    },
    {
      "cell_type": "code",
      "source": [
        "# Mapping smoking history to integers\n",
        "diabetes_dataset['smoking_history'] = diabetes_dataset['smoking_history'].map({\n",
        "    'never': 0,\n",
        "    'No Info': 1,\n",
        "    'former': 2,\n",
        "    'current': 3\n",
        "})\n"
      ],
      "metadata": {
        "id": "zQg6rW_w5lev"
      },
      "execution_count": null,
      "outputs": []
    },
    {
      "cell_type": "code",
      "source": [
        "# Check for NaN values and drop rows with any NaN values\n",
        "diabetes_dataset.dropna(inplace=True)"
      ],
      "metadata": {
        "id": "eplX1YTr5oJd"
      },
      "execution_count": null,
      "outputs": []
    },
    {
      "cell_type": "code",
      "metadata": {
        "colab": {
          "base_uri": "https://localhost:8080/"
        },
        "id": "lynParo6pEMB",
        "outputId": "4deedb16-b153-4943-cc5c-97b43a3f58cd"
      },
      "source": [
        "# number of coloums and rows in this dataset\n",
        "diabetes_dataset.shape"
      ],
      "execution_count": null,
      "outputs": [
        {
          "output_type": "execute_result",
          "data": {
            "text/plain": [
              "(89549, 8)"
            ]
          },
          "metadata": {},
          "execution_count": 8
        }
      ]
    },
    {
      "cell_type": "code",
      "metadata": {
        "id": "3NDJOlrEpmoL"
      },
      "source": [
        "# Separate data and labels\n",
        "X = diabetes_dataset.drop(columns='diabetes', axis=1)\n",
        "Y = diabetes_dataset['diabetes']"
      ],
      "execution_count": null,
      "outputs": []
    },
    {
      "cell_type": "markdown",
      "metadata": {
        "id": "cB1qRaNcqeh5"
      },
      "source": [
        "0 --> Non-Diabetic\n",
        "\n",
        "1 --> Diabetic"
      ]
    },
    {
      "cell_type": "code",
      "metadata": {
        "colab": {
          "base_uri": "https://localhost:8080/"
        },
        "id": "3eiRW9M9raMm",
        "outputId": "7f5c6a9a-9669-4856-e932-31647282bd8e"
      },
      "source": [
        "print(X)"
      ],
      "execution_count": null,
      "outputs": [
        {
          "output_type": "stream",
          "name": "stdout",
          "text": [
            "        age  hypertension  heart_disease  smoking_history    bmi  HbA1c_level  \\\n",
            "0      80.0             0              1              0.0  25.19          6.6   \n",
            "1      54.0             0              0              1.0  27.32          6.6   \n",
            "2      28.0             0              0              0.0  27.32          5.7   \n",
            "3      36.0             0              0              3.0  23.45          5.0   \n",
            "4      76.0             1              1              3.0  20.14          4.8   \n",
            "...     ...           ...            ...              ...    ...          ...   \n",
            "99995  80.0             0              0              1.0  27.32          6.2   \n",
            "99996   2.0             0              0              1.0  17.37          6.5   \n",
            "99997  66.0             0              0              2.0  27.83          5.7   \n",
            "99998  24.0             0              0              0.0  35.42          4.0   \n",
            "99999  57.0             0              0              3.0  22.43          6.6   \n",
            "\n",
            "       blood_glucose_level  \n",
            "0                      140  \n",
            "1                       80  \n",
            "2                      158  \n",
            "3                      155  \n",
            "4                      155  \n",
            "...                    ...  \n",
            "99995                   90  \n",
            "99996                  100  \n",
            "99997                  155  \n",
            "99998                  100  \n",
            "99999                   90  \n",
            "\n",
            "[89549 rows x 7 columns]\n"
          ]
        }
      ]
    },
    {
      "cell_type": "code",
      "metadata": {
        "colab": {
          "base_uri": "https://localhost:8080/"
        },
        "id": "AoxgTJAMrcCl",
        "outputId": "f969d5e8-4eb0-4ec4-d1e9-af0440ede36a"
      },
      "source": [
        "print(Y)"
      ],
      "execution_count": null,
      "outputs": [
        {
          "output_type": "stream",
          "name": "stdout",
          "text": [
            "0        0\n",
            "1        0\n",
            "2        0\n",
            "3        0\n",
            "4        0\n",
            "        ..\n",
            "99995    0\n",
            "99996    0\n",
            "99997    0\n",
            "99998    0\n",
            "99999    0\n",
            "Name: diabetes, Length: 89549, dtype: int64\n"
          ]
        }
      ]
    },
    {
      "cell_type": "markdown",
      "metadata": {
        "id": "gHciEFkxsoQP"
      },
      "source": [
        "Train Test Split"
      ]
    },
    {
      "cell_type": "code",
      "metadata": {
        "id": "AEfKGj_yslvD"
      },
      "source": [
        "# Train-test split\n",
        "X_train, X_test, Y_train, Y_test = train_test_split(X, Y, test_size=0.2, stratify=Y, random_state=2)\n"
      ],
      "execution_count": null,
      "outputs": []
    },
    {
      "cell_type": "code",
      "metadata": {
        "colab": {
          "base_uri": "https://localhost:8080/"
        },
        "id": "DR05T-o0t3FQ",
        "outputId": "18e77092-6308-43c0-ea90-3ca97dffacb0"
      },
      "source": [
        "print(X.shape, X_train.shape, X_test.shape)"
      ],
      "execution_count": null,
      "outputs": [
        {
          "output_type": "stream",
          "name": "stdout",
          "text": [
            "(89549, 7) (71639, 7) (17910, 7)\n"
          ]
        }
      ]
    },
    {
      "cell_type": "markdown",
      "metadata": {
        "id": "ElJ3tkOtuC_n"
      },
      "source": [
        "Training the Model"
      ]
    },
    {
      "cell_type": "code",
      "metadata": {
        "id": "5szLWHlNt9xc",
        "colab": {
          "base_uri": "https://localhost:8080/"
        },
        "outputId": "fd7151f6-3516-40d8-c682-cec779d99dcd"
      },
      "source": [
        "X_train, X_test , Y_train , Y_test= train_test_split(X,Y, test_size=0.2, random_state=41)\n",
        "print(X_train.head())\n"
      ],
      "execution_count": null,
      "outputs": [
        {
          "output_type": "stream",
          "name": "stdout",
          "text": [
            "        age  hypertension  heart_disease  smoking_history    bmi  HbA1c_level  \\\n",
            "49136  47.0             0              0              2.0  27.40          6.2   \n",
            "69084  37.0             0              0              0.0  30.36          6.6   \n",
            "2341   38.0             0              0              0.0  27.32          4.8   \n",
            "61819  33.0             0              0              2.0  31.40          5.7   \n",
            "64801  64.0             0              0              0.0  32.01          6.0   \n",
            "\n",
            "       blood_glucose_level  \n",
            "49136                   80  \n",
            "69084                  126  \n",
            "2341                   140  \n",
            "61819                   80  \n",
            "64801                   85  \n"
          ]
        }
      ]
    },
    {
      "cell_type": "markdown",
      "metadata": {
        "id": "UV4-CAfquiyP"
      },
      "source": [
        "Model Evaluation"
      ]
    },
    {
      "cell_type": "code",
      "metadata": {
        "id": "fJLEPQK7ueXp"
      },
      "source": [
        "# Model evaluation\n",
        "classifier = GaussianNB()\n",
        "classifier.fit(X_train, Y_train)\n",
        "X_train_prediction = classifier.predict(X_train)\n",
        "training_data_accuracy = accuracy_score(X_train_prediction, Y_train)\n",
        "\n",
        "X_test_prediction = classifier.predict(X_test)\n",
        "test_data_accuracy = accuracy_score(X_test_prediction, Y_test)"
      ],
      "execution_count": null,
      "outputs": []
    },
    {
      "cell_type": "markdown",
      "source": [
        "Accuracy Score"
      ],
      "metadata": {
        "id": "3M4cvMcv6zwX"
      }
    },
    {
      "cell_type": "code",
      "metadata": {
        "colab": {
          "base_uri": "https://localhost:8080/"
        },
        "id": "mmJ22qhVvNwj",
        "outputId": "e370fe42-1ccc-40b2-f300-2df4f2783cfd"
      },
      "source": [
        "# Print the accuracy scores\n",
        "print(f'Accuracy score of the training data: {training_data_accuracy * 100:.2f}%')\n",
        "print(f'Accuracy score of the test data: {test_data_accuracy * 100:.2f}%')\n"
      ],
      "execution_count": null,
      "outputs": [
        {
          "output_type": "stream",
          "name": "stdout",
          "text": [
            "Accuracy score of the training data: 90.53%\n",
            "Accuracy score of the test data: 90.16%\n"
          ]
        }
      ]
    },
    {
      "cell_type": "markdown",
      "source": [
        "End Time"
      ],
      "metadata": {
        "id": "FJnHYENKXbPB"
      }
    },
    {
      "cell_type": "code",
      "source": [
        "# End total execution time\n",
        "end_time = time.time()\n",
        "execution_time = end_time - start_time\n",
        "print(f\"Total execution time: {execution_time:.4f} seconds\")"
      ],
      "metadata": {
        "id": "LxEygXFQXcZO"
      },
      "execution_count": null,
      "outputs": []
    },
    {
      "cell_type": "code",
      "source": [
        "# Plotting accuracies (optional)\n",
        "accuracies = [training_data_accuracy * 100, test_data_accuracy * 100]\n",
        "labels = ['Training Accuracy', 'Test Accuracy']\n",
        "\n",
        "# Uncomment if you want to visualize the accuracies\n",
        "plt.figure(figsize=(8, 5))\n",
        "plt.bar(labels, accuracies, color=['blue', 'orange'])\n",
        "plt.ylim(0, 100)\n",
        "plt.ylabel('Accuracy (%)')\n",
        "plt.title('Training vs Test Accuracy')\n",
        "plt.grid(axis='y', linestyle='--')\n",
        "\n",
        "for i, v in enumerate(accuracies):\n",
        "    plt.text(i, v + 1, f\"{v:.2f}%\", ha='center', fontweight='bold')\n",
        "\n",
        "plt.show()"
      ],
      "metadata": {
        "id": "ycsrx5bp6TLG",
        "colab": {
          "base_uri": "https://localhost:8080/",
          "height": 468
        },
        "outputId": "2a0b77e9-8c13-4b9b-b3f6-b19ec4740452"
      },
      "execution_count": null,
      "outputs": [
        {
          "output_type": "display_data",
          "data": {
            "text/plain": [
              "<Figure size 800x500 with 1 Axes>"
            ],
            "image/png": "[encoded data removed]"
          },
          "metadata": {}
        }
      ]
    },
    {
      "cell_type": "code",
      "metadata": {
        "id": "G2CICFMEvcCl"
      },
      "source": [
        "# accuracy score on the test data\n",
        "X_test_prediction = classifier.predict(X_test)\n",
        "test_data_accuracy = accuracy_score(X_test_prediction, Y_test)"
      ],
      "execution_count": null,
      "outputs": []
    },
    {
      "cell_type": "markdown",
      "source": [
        "Making a Predictive System\n"
      ],
      "metadata": {
        "id": "gTT76o9_67C3"
      }
    },
    {
      "cell_type": "code",
      "metadata": {
        "id": "i2GcW_t_vz7C"
      },
      "source": [
        "# Making a predictive system\n",
        "input_data = (80, 0, 1, 0, 25.19, 6.6, 140)  # Example input\n",
        "input_data_as_numpy_array = np.asarray(input_data).reshape(1, -1)"
      ],
      "execution_count": null,
      "outputs": []
    },
    {
      "cell_type": "code",
      "source": [
        "# Prediction\n",
        "prediction = classifier.predict(input_data_as_numpy_array)\n",
        "\n",
        "if prediction[0] == 0:\n",
        "    result = 'The person is not diabetic'\n",
        "else:\n",
        "    result = 'The person is diabetic'"
      ],
      "metadata": {
        "colab": {
          "base_uri": "https://localhost:8080/"
        },
        "id": "ggsm7h1HBmlT",
        "outputId": "96bbff85-db51-4849-82cc-6f269e5adbfd"
      },
      "execution_count": null,
      "outputs": [
        {
          "output_type": "stream",
          "name": "stderr",
          "text": [
            "/usr/local/lib/python3.10/dist-packages/sklearn/base.py:493: UserWarning: X does not have valid feature names, but GaussianNB was fitted with feature names\n",
            "  warnings.warn(\n"
          ]
        }
      ]
    },
    {
      "cell_type": "markdown",
      "source": [
        "For Saving the Model\n"
      ],
      "metadata": {
        "id": "eS0ongHQ69cr"
      }
    },
    {
      "cell_type": "code",
      "metadata": {
        "colab": {
          "base_uri": "https://localhost:8080/"
        },
        "id": "U-ULRe4yv5tH",
        "outputId": "a302d587-5cb0-4543-c839-a5bc97b8e410"
      },
      "source": [
        "# Saving the trained model\n",
        "filename = 'diabetes_model.sav'\n",
        "pickle.dump(classifier, open(filename, 'wb'))\n",
        "\n",
        "# End total execution time\n",
        "end_time = time.time()\n",
        "execution_time = end_time - start_time\n",
        "print(f\"Total execution time: {execution_time:.4f} seconds\")\n",
        "\n",
        "# Print feature names\n",
        "for column in X.columns:\n",
        "    print(column)"
      ],
      "execution_count": null,
      "outputs": [
        {
          "output_type": "stream",
          "name": "stdout",
          "text": [
            "Total execution time: 0.7234 seconds\n",
            "age\n",
            "hypertension\n",
            "heart_disease\n",
            "smoking_history\n",
            "bmi\n",
            "HbA1c_level\n",
            "blood_glucose_level\n"
          ]
        }
      ]
    },
    {
      "cell_type": "markdown",
      "metadata": {
        "id": "FCHCMHpshHU4"
      },
      "source": [
        "Saving the trained model"
      ]
    }
  ]
}