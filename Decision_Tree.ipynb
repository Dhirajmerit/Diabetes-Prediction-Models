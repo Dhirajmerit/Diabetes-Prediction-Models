{
  "nbformat": 4,
  "nbformat_minor": 0,
  "metadata": {
    "colab": {
      "provenance": []
    },
    "kernelspec": {
      "name": "python3",
      "display_name": "Python 3"
    },
    "language_info": {
      "name": "python"
    }
  },
  "cells": [
    {
      "cell_type": "markdown",
      "source": [
        "\n",
        "Importing the Dependencies"
      ],
      "metadata": {
        "id": "ZCzCp0CQXs-7"
      }
    },
    {
      "cell_type": "code",
      "execution_count": null,
      "metadata": {
        "id": "DkWpVdsjIGk8"
      },
      "outputs": [],
      "source": [
        "import numpy as np\n",
        "import pandas as pd\n",
        "from sklearn.model_selection import train_test_split\n",
        "from sklearn.tree import DecisionTreeClassifier  # Import Decision Tree\n",
        "from sklearn.metrics import accuracy_score\n",
        "import time\n",
        "import matplotlib.pyplot as plt\n",
        "import pickle"
      ]
    },
    {
      "cell_type": "markdown",
      "source": [
        "Data Collection and Analysis\n",
        "\n",
        "PIMA Diabetes Dataset"
      ],
      "metadata": {
        "id": "NsHHbcHrXzok"
      }
    },
    {
      "cell_type": "code",
      "source": [
        "# Start total execution time\n",
        "start_time = time.time()\n",
        "\n",
        "# Load the dataset\n",
        "diabetes_dataset = pd.read_csv('/content/diabetes.csv')\n"
      ],
      "metadata": {
        "id": "xOrqEJFAI6aT"
      },
      "execution_count": null,
      "outputs": []
    },
    {
      "cell_type": "code",
      "source": [
        "# Data analysis\n",
        "print(diabetes_dataset.head())\n",
        "print(diabetes_dataset.describe())\n",
        "print(diabetes_dataset['diabetes'].value_counts())\n",
        "\n"
      ],
      "metadata": {
        "colab": {
          "base_uri": "https://localhost:8080/"
        },
        "id": "w5WfYVcEI_Cu",
        "outputId": "329e91c7-8b85-43db-a220-c7dcf8bf2787"
      },
      "execution_count": null,
      "outputs": [
        {
          "output_type": "stream",
          "name": "stdout",
          "text": [
            "  gender   age  hypertension  heart_disease smoking_history    bmi  \\\n",
            "0      0  80.0             0              1           never  25.19   \n",
            "1      0  54.0             0              0         No Info  27.32   \n",
            "2      1  28.0             0              0           never  27.32   \n",
            "3      0  36.0             0              0         current  23.45   \n",
            "4      1  76.0             1              1         current  20.14   \n",
            "\n",
            "   HbA1c_level  blood_glucose_level  diabetes  \n",
            "0          6.6                  140         0  \n",
            "1          6.6                   80         0  \n",
            "2          5.7                  158         0  \n",
            "3          5.0                  155         0  \n",
            "4          4.8                  155         0  \n",
            "                 age  hypertension  heart_disease            bmi  \\\n",
            "count  100000.000000  100000.00000  100000.000000  100000.000000   \n",
            "mean       41.885856       0.07485       0.039420      27.320767   \n",
            "std        22.516840       0.26315       0.194593       6.636783   \n",
            "min         0.080000       0.00000       0.000000      10.010000   \n",
            "25%        24.000000       0.00000       0.000000      23.630000   \n",
            "50%        43.000000       0.00000       0.000000      27.320000   \n",
            "75%        60.000000       0.00000       0.000000      29.580000   \n",
            "max        80.000000       1.00000       1.000000      95.690000   \n",
            "\n",
            "         HbA1c_level  blood_glucose_level       diabetes  \n",
            "count  100000.000000        100000.000000  100000.000000  \n",
            "mean        5.527507           138.058060       0.085000  \n",
            "std         1.070672            40.708136       0.278883  \n",
            "min         3.500000            80.000000       0.000000  \n",
            "25%         4.800000           100.000000       0.000000  \n",
            "50%         5.800000           140.000000       0.000000  \n",
            "75%         6.200000           159.000000       0.000000  \n",
            "max         9.000000           300.000000       1.000000  \n",
            "diabetes\n",
            "0    91500\n",
            "1     8500\n",
            "Name: count, dtype: int64\n"
          ]
        }
      ]
    },
    {
      "cell_type": "code",
      "source": [
        "# Drop the gender column\n",
        "diabetes_dataset.drop(columns='gender', inplace=True)\n"
      ],
      "metadata": {
        "id": "mroaYv6IJBn8"
      },
      "execution_count": null,
      "outputs": []
    },
    {
      "cell_type": "code",
      "source": [
        "# Mapping smoking history to integers\n",
        "diabetes_dataset['smoking_history'] = diabetes_dataset['smoking_history'].map({\n",
        "    'never': 0,\n",
        "    'No Info': 1,\n",
        "    'former': 2,\n",
        "    'current': 3\n",
        "})\n",
        "\n",
        "# Check for NaN values and drop rows with any NaN values\n",
        "diabetes_dataset.dropna(inplace=True)"
      ],
      "metadata": {
        "id": "-5c9AeKAJECU"
      },
      "execution_count": null,
      "outputs": []
    },
    {
      "cell_type": "code",
      "source": [
        "# Number of columns and rows in the dataset\n",
        "print(f\"Dataset shape: {diabetes_dataset.shape}\")\n",
        "\n",
        "# Separate data and labels\n",
        "X = diabetes_dataset.drop(columns='diabetes', axis=1)\n",
        "Y = diabetes_dataset['diabetes']\n",
        "\n",
        "print(X)\n",
        "print(Y)"
      ],
      "metadata": {
        "colab": {
          "base_uri": "https://localhost:8080/"
        },
        "id": "bsQZHB5EJHZz",
        "outputId": "8b0d9858-5767-49ad-bee1-428160cf48d9"
      },
      "execution_count": null,
      "outputs": [
        {
          "output_type": "stream",
          "name": "stdout",
          "text": [
            "Dataset shape: (89549, 8)\n",
            "        age  hypertension  heart_disease  smoking_history    bmi  HbA1c_level  \\\n",
            "0      80.0             0              1              0.0  25.19          6.6   \n",
            "1      54.0             0              0              1.0  27.32          6.6   \n",
            "2      28.0             0              0              0.0  27.32          5.7   \n",
            "3      36.0             0              0              3.0  23.45          5.0   \n",
            "4      76.0             1              1              3.0  20.14          4.8   \n",
            "...     ...           ...            ...              ...    ...          ...   \n",
            "99995  80.0             0              0              1.0  27.32          6.2   \n",
            "99996   2.0             0              0              1.0  17.37          6.5   \n",
            "99997  66.0             0              0              2.0  27.83          5.7   \n",
            "99998  24.0             0              0              0.0  35.42          4.0   \n",
            "99999  57.0             0              0              3.0  22.43          6.6   \n",
            "\n",
            "       blood_glucose_level  \n",
            "0                      140  \n",
            "1                       80  \n",
            "2                      158  \n",
            "3                      155  \n",
            "4                      155  \n",
            "...                    ...  \n",
            "99995                   90  \n",
            "99996                  100  \n",
            "99997                  155  \n",
            "99998                  100  \n",
            "99999                   90  \n",
            "\n",
            "[89549 rows x 7 columns]\n",
            "0        0\n",
            "1        0\n",
            "2        0\n",
            "3        0\n",
            "4        0\n",
            "        ..\n",
            "99995    0\n",
            "99996    0\n",
            "99997    0\n",
            "99998    0\n",
            "99999    0\n",
            "Name: diabetes, Length: 89549, dtype: int64\n"
          ]
        }
      ]
    },
    {
      "cell_type": "markdown",
      "source": [
        "Train Test Split"
      ],
      "metadata": {
        "id": "kBfBEmROX5pg"
      }
    },
    {
      "cell_type": "code",
      "source": [
        "# Train-test split\n",
        "X_train, X_test, Y_train, Y_test = train_test_split(X, Y, test_size=0.2, stratify=Y, random_state=42)\n",
        "\n",
        "print(f\"Full dataset shape: {X.shape}, Training set shape: {X_train.shape}, Test set shape: {X_test.shape}\")"
      ],
      "metadata": {
        "colab": {
          "base_uri": "https://localhost:8080/"
        },
        "id": "HIjexAd1JJ_0",
        "outputId": "5ddc7fae-c2ef-4434-8b93-bc141e73b873"
      },
      "execution_count": null,
      "outputs": [
        {
          "output_type": "stream",
          "name": "stdout",
          "text": [
            "Full dataset shape: (89549, 7), Training set shape: (71639, 7), Test set shape: (17910, 7)\n"
          ]
        }
      ]
    },
    {
      "cell_type": "markdown",
      "source": [
        "Training the Model and Model evaluation"
      ],
      "metadata": {
        "id": "QtkQkJHnX9k-"
      }
    },
    {
      "cell_type": "code",
      "source": [
        "# Train the Decision Tree model\n",
        "classifier = DecisionTreeClassifier(random_state=42)  # Adjust hyperparameters as needed\n",
        "classifier.fit(X_train, Y_train)\n",
        "\n",
        "# Model evaluation\n",
        "X_train_prediction = classifier.predict(X_train)\n",
        "training_data_accuracy = accuracy_score(X_train_prediction, Y_train)\n",
        "\n",
        "X_test_prediction = classifier.predict(X_test)\n",
        "test_data_accuracy = accuracy_score(X_test_prediction, Y_test)"
      ],
      "metadata": {
        "id": "Ux-XjuGaJMWv"
      },
      "execution_count": null,
      "outputs": []
    },
    {
      "cell_type": "markdown",
      "source": [
        "Accuracy Score"
      ],
      "metadata": {
        "id": "Q4YZZ8QvYFWK"
      }
    },
    {
      "cell_type": "code",
      "source": [
        "# Print the accuracy scores\n",
        "print(f'Accuracy score of the training data: {training_data_accuracy * 100:.2f}%')\n",
        "print(f'Accuracy score of the test data: {test_data_accuracy * 100:.2f}%')\n",
        "\n",
        "# Plotting accuracies (optional)\n",
        "accuracies = [training_data_accuracy * 100, test_data_accuracy * 100]\n",
        "labels = ['Training Accuracy', 'Test Accuracy']"
      ],
      "metadata": {
        "colab": {
          "base_uri": "https://localhost:8080/"
        },
        "id": "fYs8hneEJPEw",
        "outputId": "b7f7e3a2-546f-44e5-807e-2e34bc1b8350"
      },
      "execution_count": null,
      "outputs": [
        {
          "output_type": "stream",
          "name": "stdout",
          "text": [
            "Accuracy score of the training data: 99.86%\n",
            "Accuracy score of the test data: 95.20%\n"
          ]
        }
      ]
    },
    {
      "cell_type": "markdown",
      "source": [
        "End Time"
      ],
      "metadata": {
        "id": "0g0rBI2MXQx-"
      }
    },
    {
      "cell_type": "code",
      "source": [
        "# End total execution time\n",
        "end_time = time.time()\n",
        "execution_time = end_time - start_time\n",
        "print(f\"Total execution time: {execution_time:.4f} seconds\")"
      ],
      "metadata": {
        "id": "Bmr8m6wlXR8G"
      },
      "execution_count": null,
      "outputs": []
    },
    {
      "cell_type": "code",
      "source": [
        "\n",
        "plt.figure(figsize=(8, 5))\n",
        "plt.bar(labels, accuracies, color=['blue', 'orange'])\n",
        "plt.ylim(0, 100)\n",
        "plt.ylabel('Accuracy (%)')\n",
        "plt.title('Training vs Test Accuracy')\n",
        "plt.grid(axis='y', linestyle='--')\n",
        "\n",
        "for i, v in enumerate(accuracies):\n",
        "    plt.text(i, v + 1, f\"{v:.2f}%\", ha='center', fontweight='bold')\n",
        "\n",
        "plt.show()"
      ],
      "metadata": {
        "colab": {
          "base_uri": "https://localhost:8080/",
          "height": 468
        },
        "id": "accHdBovJQ5u",
        "outputId": "1d89ac17-48db-4a67-d670-aa8a92e39af4"
      },
      "execution_count": null,
      "outputs": [
        {
          "output_type": "display_data",
          "data": {
            "text/plain": [
              "<Figure size 800x500 with 1 Axes>"
            ],
            "image/png": "[encoded data removed]"
          },
          "metadata": {}
        }
      ]
    },
    {
      "cell_type": "markdown",
      "source": [
        "Making a Predictive System"
      ],
      "metadata": {
        "id": "zin633bGYKtY"
      }
    },
    {
      "cell_type": "code",
      "source": [
        "# Making a predictive system\n",
        "input_data = (80, 0, 1, 0, 25.19, 6.6, 140)  # Example input\n",
        "input_data_as_numpy_array = np.asarray(input_data).reshape(1, -1)\n",
        "\n",
        "# Prediction\n",
        "prediction = classifier.predict(input_data_as_numpy_array)\n",
        "\n",
        "if prediction[0] == 0:\n",
        "    result = 'The person is not diabetic'\n",
        "else:\n",
        "    result = 'The person is diabetic'\n",
        "\n",
        "print(result)\n",
        "\n"
      ],
      "metadata": {
        "colab": {
          "base_uri": "https://localhost:8080/"
        },
        "id": "M96aT0NxJSyO",
        "outputId": "aa79b919-0afa-42d9-c5dd-7b676da41da8"
      },
      "execution_count": null,
      "outputs": [
        {
          "output_type": "stream",
          "name": "stdout",
          "text": [
            "The person is not diabetic\n"
          ]
        },
        {
          "output_type": "stream",
          "name": "stderr",
          "text": [
            "/usr/local/lib/python3.10/dist-packages/sklearn/base.py:493: UserWarning: X does not have valid feature names, but DecisionTreeClassifier was fitted with feature names\n",
            "  warnings.warn(\n"
          ]
        }
      ]
    },
    {
      "cell_type": "markdown",
      "source": [
        "For Saving the Model"
      ],
      "metadata": {
        "id": "EyQyelCBYNmX"
      }
    },
    {
      "cell_type": "code",
      "source": [
        "# Save the Decision Tree model\n",
        "filename = 'diabetes_decision_tree_model.sav'\n",
        "pickle.dump(classifier, open(filename, 'wb'))\n",
        "print(\"Decision Tree model saved successfully!\")\n",
        "\n",
        "# End total execution time\n",
        "end_time = time.time()\n",
        "execution_time = end_time - start_time\n",
        "print(f\"Total execution time: {execution_time:.4f} seconds\")\n"
      ],
      "metadata": {
        "colab": {
          "base_uri": "https://localhost:8080/"
        },
        "id": "AfEzPj1rJT8Q",
        "outputId": "5a9242c9-76ff-454a-ebfd-d72a96bd858f"
      },
      "execution_count": null,
      "outputs": [
        {
          "output_type": "stream",
          "name": "stdout",
          "text": [
            "Decision Tree model saved successfully!\n",
            "Total execution time: 1.0270 seconds\n"
          ]
        }
      ]
    },
    {
      "cell_type": "code",
      "source": [
        "# Print feature names\n",
        "for column in X.columns:\n",
        "    print(column)\n"
      ],
      "metadata": {
        "colab": {
          "base_uri": "https://localhost:8080/"
        },
        "id": "RBCJTRbfJVKB",
        "outputId": "3622b747-6f8b-430f-fdc4-46ed3eb9f08d"
      },
      "execution_count": null,
      "outputs": [
        {
          "output_type": "stream",
          "name": "stdout",
          "text": [
            "age\n",
            "hypertension\n",
            "heart_disease\n",
            "smoking_history\n",
            "bmi\n",
            "HbA1c_level\n",
            "blood_glucose_level\n"
          ]
        }
      ]
    }
  ]
}